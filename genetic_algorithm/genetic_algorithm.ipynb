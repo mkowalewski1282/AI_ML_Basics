{
 "cells": [
  {
   "cell_type": "code",
   "execution_count": 131,
   "metadata": {},
   "outputs": [],
   "source": [
    "import numpy as np\n",
    "import matplotlib.pyplot as plt\n",
    "import random"
   ]
  },
  {
   "cell_type": "code",
   "execution_count": 132,
   "metadata": {},
   "outputs": [],
   "source": [
    "def min_max_norm(val, min_val, max_val, new_min, new_max):\n",
    "  return (val - min_val) * (new_max - new_min) / (max_val - min_val) + new_min"
   ]
  },
  {
   "cell_type": "code",
   "execution_count": 133,
   "metadata": {},
   "outputs": [],
   "source": [
    "class Chromosome:\n",
    "  def __init__(self, length, array=None): #if array is None it should be initialized with random binary vector\n",
    "    if array is None:\n",
    "      array = [random.choice([0, 1]) for _ in range(length)]\n",
    "    self.array = array\n",
    "    self.length = length\n",
    "\n",
    "\n",
    "  def decode(self, lower_bound, upper_bound, aoi):\n",
    "      decoded = max_bin = '0b'\n",
    "      for i in range(upper_bound - lower_bound + 1):\n",
    "        decoded += str(self.array[lower_bound+i])\n",
    "        max_bin += '1'\n",
    "      return min_max_norm(int(decoded, 2), 0, int(max_bin, 2), aoi[0], aoi[1])\n",
    "\n",
    "\n",
    "  def mutation(self, probability):\n",
    "    if random.random() < probability:\n",
    "      index = random.randint(0, self.length-1)\n",
    "      self.array[index] = 1 - self.array[index] #bitwise NOT\n",
    "\n",
    "  def crossover(self, other):\n",
    "    index = random.randint(0, self.length-1)\n",
    "    output_array_1 = np.concatenate((self.array[0:index], other.array[index:]), axis=0)\n",
    "    output_array_2 = np.concatenate((other.array[0:index], self.array[index:]), axis=0)\n",
    "    return [Chromosome(self.length, output_array_1), Chromosome(self.length, output_array_2)]"
   ]
  },
  {
   "cell_type": "code",
   "execution_count": 134,
   "metadata": {},
   "outputs": [],
   "source": [
    "class GeneticAlgorithm:\n",
    "  def __init__(self, chromosome_length, obj_func_num_args, objective_function, aoi, population_size=1000,\n",
    "               tournament_size=2, mutation_probability=0.05, crossover_probability=0.8, num_steps=30):\n",
    "    assert chromosome_length % obj_func_num_args == 0, \"Number of bits for each argument should be equal\"\n",
    "    self.chromosome_length = chromosome_length\n",
    "    self.obj_func_num_args = obj_func_num_args\n",
    "    self.bits_per_arg = int(chromosome_length / obj_func_num_args)\n",
    "    self.objective_function = objective_function\n",
    "    self.aoi = aoi\n",
    "    self.tournament_size = tournament_size\n",
    "    self.mutation_probability = mutation_probability\n",
    "    self.crossover_probability = crossover_probability\n",
    "    self.num_steps = num_steps\n",
    "    population = []\n",
    "    for i in range(population_size):\n",
    "      population.append(Chromosome(self.chromosome_length))\n",
    "    self.population = population\n",
    "\n",
    "  def eval_objective_func(self, chromosome):\n",
    "    points = []\n",
    "    for m in range(self.obj_func_num_args):\n",
    "        points.append(chromosome.decode(0+m*self.bits_per_arg, (m+1)*self.bits_per_arg-1, self.aoi))\n",
    "    return self.objective_function(*points)\n",
    "\n",
    "  def tournament_selection(self):\n",
    "    for i in range(self.tournament_size):\n",
    "      candidates = random.sample(self.population, self.tournament_size)\n",
    "      return min(candidates, key=lambda chromosome: self.eval_objective_func(chromosome))\n",
    "\n",
    "\n",
    "  def reproduce(self, parents):\n",
    "    if random.random() < self.crossover_probability:\n",
    "      return parents[0].crossover(parents[1])\n",
    "    else:\n",
    "      return parents\n",
    "\n",
    "\n",
    "  def plot_func(self, trace):\n",
    "    X = np.arange(-2, 3, 0.05)\n",
    "    Y = np.arange(-4, 2, 0.05)\n",
    "    X, Y = np.meshgrid(X, Y)\n",
    "    Z = 1.5 - np.exp(-X ** (2) - Y ** (2)) - 0.5 * np.exp(-(X - 1) ** (2) - (Y + 2) ** (2))\n",
    "    plt.figure()\n",
    "    plt.contour(X, Y, Z, 10)\n",
    "    cmaps = [[ii / len(trace), 0, 0] for ii in range(len(trace))]\n",
    "    plt.scatter([x[0] for x in trace], [x[1] for x in trace], c=cmaps)\n",
    "    plt.show()\n",
    "\n",
    "  def run(self):\n",
    "    trace_init = []\n",
    "    for m in range(self.obj_func_num_args):\n",
    "        trace_init.append(self.population[0].decode(0+m*self.bits_per_arg, (m+1)*self.bits_per_arg-1, self.aoi))\n",
    "    trace = np.array(trace_init)\n",
    "    for n in range(len(self.population)-1):\n",
    "      points = []\n",
    "      for m in range(self.obj_func_num_args):\n",
    "        points.append(self.population[n+1].decode(0+m*self.bits_per_arg, (m+1)*self.bits_per_arg-1, self.aoi))\n",
    "      trace = np.vstack([trace, points])\n",
    "    best_individuals = []\n",
    "    for i in range(self.num_steps):\n",
    "      new_population = []\n",
    "\n",
    "      for j in range(int(len(self.population)/2)):\n",
    "        parents = random.sample(self.population, 2)\n",
    "        reproduced = self.reproduce(parents)          #either crossover or parents go through\n",
    "        new_population.append(reproduced[0])\n",
    "        new_population.append(reproduced[1])\n",
    "\n",
    "      for j in range(len(self.population)):\n",
    "        new_population[j].mutation(self.mutation_probability)\n",
    "      self.population = new_population\n",
    "\n",
    "      tournament_output = []\n",
    "      for j in range(len(self.population)):\n",
    "        tournament_output.append(self.tournament_selection())\n",
    "      self.population = tournament_output\n",
    "\n",
    "      best_individuals.append(min(new_population, key=lambda chromosome: self.eval_objective_func(chromosome)))\n",
    "      print(self.eval_objective_func(best_individuals[i]))\n",
    "      for n in range(len(self.population)):\n",
    "        points = []\n",
    "        for m in range(self.obj_func_num_args):\n",
    "          points.append(self.population[n].decode(m*self.bits_per_arg, (m+1)*self.bits_per_arg, self.aoi))\n",
    "        trace = np.vstack([trace, points])\n",
    "    self.plot_func(trace)\n",
    "    plt.show()\n",
    "\n"
   ]
  },
  {
   "cell_type": "code",
   "execution_count": 135,
   "metadata": {},
   "outputs": [
    {
     "name": "stdout",
     "output_type": "stream",
     "text": [
      "0.5294117647058824\n"
     ]
    }
   ],
   "source": [
    "print(min_max_norm(135, 0, 255, 0, 1))"
   ]
  },
  {
   "cell_type": "code",
   "execution_count": 137,
   "metadata": {},
   "outputs": [
    {
     "ename": "ValueError",
     "evalue": "invalid literal for int() with base 2: '0b0.00.01.00.00.01.00.01.0'",
     "output_type": "error",
     "traceback": [
      "\u001b[0;31m---------------------------------------------------------------------------\u001b[0m",
      "\u001b[0;31mValueError\u001b[0m                                Traceback (most recent call last)",
      "\u001b[1;32m/home/milosz/5_semestr/WSI/WSI-lab/wsi-lab/genetic_algorithm/genetic_algorithm.ipynb Cell 6\u001b[0m line \u001b[0;36m9\n\u001b[1;32m      <a href='vscode-notebook-cell://wsl%2Bubuntu/home/milosz/5_semestr/WSI/WSI-lab/wsi-lab/genetic_algorithm/genetic_algorithm.ipynb#X10sdnNjb2RlLXJlbW90ZQ%3D%3D?line=5'>6</a>\u001b[0m aoi \u001b[39m=\u001b[39m [\u001b[39m-\u001b[39m\u001b[39m2.5\u001b[39m, \u001b[39m2.5\u001b[39m]\n\u001b[1;32m      <a href='vscode-notebook-cell://wsl%2Bubuntu/home/milosz/5_semestr/WSI/WSI-lab/wsi-lab/genetic_algorithm/genetic_algorithm.ipynb#X10sdnNjb2RlLXJlbW90ZQ%3D%3D?line=7'>8</a>\u001b[0m ga \u001b[39m=\u001b[39m GeneticAlgorithm(chromosome_length\u001b[39m=\u001b[39m\u001b[39m16\u001b[39m, obj_func_num_args\u001b[39m=\u001b[39m\u001b[39m2\u001b[39m, objective_function\u001b[39m=\u001b[39mobjective_function, aoi\u001b[39m=\u001b[39maoi)\n\u001b[0;32m----> <a href='vscode-notebook-cell://wsl%2Bubuntu/home/milosz/5_semestr/WSI/WSI-lab/wsi-lab/genetic_algorithm/genetic_algorithm.ipynb#X10sdnNjb2RlLXJlbW90ZQ%3D%3D?line=8'>9</a>\u001b[0m ga\u001b[39m.\u001b[39;49mrun()\n",
      "\u001b[1;32m/home/milosz/5_semestr/WSI/WSI-lab/wsi-lab/genetic_algorithm/genetic_algorithm.ipynb Cell 6\u001b[0m line \u001b[0;36m7\n\u001b[1;32m     <a href='vscode-notebook-cell://wsl%2Bubuntu/home/milosz/5_semestr/WSI/WSI-lab/wsi-lab/genetic_algorithm/genetic_algorithm.ipynb#X10sdnNjb2RlLXJlbW90ZQ%3D%3D?line=72'>73</a>\u001b[0m tournament_output \u001b[39m=\u001b[39m []\n\u001b[1;32m     <a href='vscode-notebook-cell://wsl%2Bubuntu/home/milosz/5_semestr/WSI/WSI-lab/wsi-lab/genetic_algorithm/genetic_algorithm.ipynb#X10sdnNjb2RlLXJlbW90ZQ%3D%3D?line=73'>74</a>\u001b[0m \u001b[39mfor\u001b[39;00m j \u001b[39min\u001b[39;00m \u001b[39mrange\u001b[39m(\u001b[39mlen\u001b[39m(\u001b[39mself\u001b[39m\u001b[39m.\u001b[39mpopulation)):\n\u001b[0;32m---> <a href='vscode-notebook-cell://wsl%2Bubuntu/home/milosz/5_semestr/WSI/WSI-lab/wsi-lab/genetic_algorithm/genetic_algorithm.ipynb#X10sdnNjb2RlLXJlbW90ZQ%3D%3D?line=74'>75</a>\u001b[0m   tournament_output\u001b[39m.\u001b[39mappend(\u001b[39mself\u001b[39;49m\u001b[39m.\u001b[39;49mtournament_selection())\n\u001b[1;32m     <a href='vscode-notebook-cell://wsl%2Bubuntu/home/milosz/5_semestr/WSI/WSI-lab/wsi-lab/genetic_algorithm/genetic_algorithm.ipynb#X10sdnNjb2RlLXJlbW90ZQ%3D%3D?line=75'>76</a>\u001b[0m \u001b[39mself\u001b[39m\u001b[39m.\u001b[39mpopulation \u001b[39m=\u001b[39m tournament_output\n\u001b[1;32m     <a href='vscode-notebook-cell://wsl%2Bubuntu/home/milosz/5_semestr/WSI/WSI-lab/wsi-lab/genetic_algorithm/genetic_algorithm.ipynb#X10sdnNjb2RlLXJlbW90ZQ%3D%3D?line=77'>78</a>\u001b[0m best_individuals\u001b[39m.\u001b[39mappend(\u001b[39mmin\u001b[39m(new_population, key\u001b[39m=\u001b[39m\u001b[39mlambda\u001b[39;00m chromosome: \u001b[39mself\u001b[39m\u001b[39m.\u001b[39meval_objective_func(chromosome)))\n",
      "\u001b[1;32m/home/milosz/5_semestr/WSI/WSI-lab/wsi-lab/genetic_algorithm/genetic_algorithm.ipynb Cell 6\u001b[0m line \u001b[0;36m2\n\u001b[1;32m     <a href='vscode-notebook-cell://wsl%2Bubuntu/home/milosz/5_semestr/WSI/WSI-lab/wsi-lab/genetic_algorithm/genetic_algorithm.ipynb#X10sdnNjb2RlLXJlbW90ZQ%3D%3D?line=25'>26</a>\u001b[0m \u001b[39mfor\u001b[39;00m i \u001b[39min\u001b[39;00m \u001b[39mrange\u001b[39m(\u001b[39mself\u001b[39m\u001b[39m.\u001b[39mtournament_size):\n\u001b[1;32m     <a href='vscode-notebook-cell://wsl%2Bubuntu/home/milosz/5_semestr/WSI/WSI-lab/wsi-lab/genetic_algorithm/genetic_algorithm.ipynb#X10sdnNjb2RlLXJlbW90ZQ%3D%3D?line=26'>27</a>\u001b[0m   candidates \u001b[39m=\u001b[39m random\u001b[39m.\u001b[39msample(\u001b[39mself\u001b[39m\u001b[39m.\u001b[39mpopulation, \u001b[39mself\u001b[39m\u001b[39m.\u001b[39mtournament_size)\n\u001b[0;32m---> <a href='vscode-notebook-cell://wsl%2Bubuntu/home/milosz/5_semestr/WSI/WSI-lab/wsi-lab/genetic_algorithm/genetic_algorithm.ipynb#X10sdnNjb2RlLXJlbW90ZQ%3D%3D?line=27'>28</a>\u001b[0m   \u001b[39mreturn\u001b[39;00m \u001b[39mmin\u001b[39;49m(candidates, key\u001b[39m=\u001b[39;49m\u001b[39mlambda\u001b[39;49;00m chromosome: \u001b[39mself\u001b[39;49m\u001b[39m.\u001b[39;49meval_objective_func(chromosome))\n",
      "\u001b[1;32m/home/milosz/5_semestr/WSI/WSI-lab/wsi-lab/genetic_algorithm/genetic_algorithm.ipynb Cell 6\u001b[0m line \u001b[0;36m2\n\u001b[1;32m     <a href='vscode-notebook-cell://wsl%2Bubuntu/home/milosz/5_semestr/WSI/WSI-lab/wsi-lab/genetic_algorithm/genetic_algorithm.ipynb#X10sdnNjb2RlLXJlbW90ZQ%3D%3D?line=25'>26</a>\u001b[0m \u001b[39mfor\u001b[39;00m i \u001b[39min\u001b[39;00m \u001b[39mrange\u001b[39m(\u001b[39mself\u001b[39m\u001b[39m.\u001b[39mtournament_size):\n\u001b[1;32m     <a href='vscode-notebook-cell://wsl%2Bubuntu/home/milosz/5_semestr/WSI/WSI-lab/wsi-lab/genetic_algorithm/genetic_algorithm.ipynb#X10sdnNjb2RlLXJlbW90ZQ%3D%3D?line=26'>27</a>\u001b[0m   candidates \u001b[39m=\u001b[39m random\u001b[39m.\u001b[39msample(\u001b[39mself\u001b[39m\u001b[39m.\u001b[39mpopulation, \u001b[39mself\u001b[39m\u001b[39m.\u001b[39mtournament_size)\n\u001b[0;32m---> <a href='vscode-notebook-cell://wsl%2Bubuntu/home/milosz/5_semestr/WSI/WSI-lab/wsi-lab/genetic_algorithm/genetic_algorithm.ipynb#X10sdnNjb2RlLXJlbW90ZQ%3D%3D?line=27'>28</a>\u001b[0m   \u001b[39mreturn\u001b[39;00m \u001b[39mmin\u001b[39m(candidates, key\u001b[39m=\u001b[39m\u001b[39mlambda\u001b[39;00m chromosome: \u001b[39mself\u001b[39;49m\u001b[39m.\u001b[39;49meval_objective_func(chromosome))\n",
      "\u001b[1;32m/home/milosz/5_semestr/WSI/WSI-lab/wsi-lab/genetic_algorithm/genetic_algorithm.ipynb Cell 6\u001b[0m line \u001b[0;36m2\n\u001b[1;32m     <a href='vscode-notebook-cell://wsl%2Bubuntu/home/milosz/5_semestr/WSI/WSI-lab/wsi-lab/genetic_algorithm/genetic_algorithm.ipynb#X10sdnNjb2RlLXJlbW90ZQ%3D%3D?line=19'>20</a>\u001b[0m points \u001b[39m=\u001b[39m []\n\u001b[1;32m     <a href='vscode-notebook-cell://wsl%2Bubuntu/home/milosz/5_semestr/WSI/WSI-lab/wsi-lab/genetic_algorithm/genetic_algorithm.ipynb#X10sdnNjb2RlLXJlbW90ZQ%3D%3D?line=20'>21</a>\u001b[0m \u001b[39mfor\u001b[39;00m m \u001b[39min\u001b[39;00m \u001b[39mrange\u001b[39m(\u001b[39mself\u001b[39m\u001b[39m.\u001b[39mobj_func_num_args):\n\u001b[0;32m---> <a href='vscode-notebook-cell://wsl%2Bubuntu/home/milosz/5_semestr/WSI/WSI-lab/wsi-lab/genetic_algorithm/genetic_algorithm.ipynb#X10sdnNjb2RlLXJlbW90ZQ%3D%3D?line=21'>22</a>\u001b[0m     points\u001b[39m.\u001b[39mappend(chromosome\u001b[39m.\u001b[39;49mdecode(\u001b[39m0\u001b[39;49m\u001b[39m+\u001b[39;49mm\u001b[39m*\u001b[39;49m\u001b[39mself\u001b[39;49m\u001b[39m.\u001b[39;49mbits_per_arg, (m\u001b[39m+\u001b[39;49m\u001b[39m1\u001b[39;49m)\u001b[39m*\u001b[39;49m\u001b[39mself\u001b[39;49m\u001b[39m.\u001b[39;49mbits_per_arg\u001b[39m-\u001b[39;49m\u001b[39m1\u001b[39;49m, \u001b[39mself\u001b[39;49m\u001b[39m.\u001b[39;49maoi))\n\u001b[1;32m     <a href='vscode-notebook-cell://wsl%2Bubuntu/home/milosz/5_semestr/WSI/WSI-lab/wsi-lab/genetic_algorithm/genetic_algorithm.ipynb#X10sdnNjb2RlLXJlbW90ZQ%3D%3D?line=22'>23</a>\u001b[0m \u001b[39mreturn\u001b[39;00m \u001b[39mself\u001b[39m\u001b[39m.\u001b[39mobjective_function(\u001b[39m*\u001b[39mpoints)\n",
      "\u001b[1;32m/home/milosz/5_semestr/WSI/WSI-lab/wsi-lab/genetic_algorithm/genetic_algorithm.ipynb Cell 6\u001b[0m line \u001b[0;36m1\n\u001b[1;32m     <a href='vscode-notebook-cell://wsl%2Bubuntu/home/milosz/5_semestr/WSI/WSI-lab/wsi-lab/genetic_algorithm/genetic_algorithm.ipynb#X10sdnNjb2RlLXJlbW90ZQ%3D%3D?line=11'>12</a>\u001b[0m   decoded \u001b[39m+\u001b[39m\u001b[39m=\u001b[39m \u001b[39mstr\u001b[39m(\u001b[39mself\u001b[39m\u001b[39m.\u001b[39marray[lower_bound\u001b[39m+\u001b[39mi])\n\u001b[1;32m     <a href='vscode-notebook-cell://wsl%2Bubuntu/home/milosz/5_semestr/WSI/WSI-lab/wsi-lab/genetic_algorithm/genetic_algorithm.ipynb#X10sdnNjb2RlLXJlbW90ZQ%3D%3D?line=12'>13</a>\u001b[0m   max_bin \u001b[39m+\u001b[39m\u001b[39m=\u001b[39m \u001b[39m'\u001b[39m\u001b[39m1\u001b[39m\u001b[39m'\u001b[39m\n\u001b[0;32m---> <a href='vscode-notebook-cell://wsl%2Bubuntu/home/milosz/5_semestr/WSI/WSI-lab/wsi-lab/genetic_algorithm/genetic_algorithm.ipynb#X10sdnNjb2RlLXJlbW90ZQ%3D%3D?line=13'>14</a>\u001b[0m \u001b[39mreturn\u001b[39;00m min_max_norm(\u001b[39mint\u001b[39;49m(decoded, \u001b[39m2\u001b[39;49m), \u001b[39m0\u001b[39m, \u001b[39mint\u001b[39m(max_bin, \u001b[39m2\u001b[39m), aoi[\u001b[39m0\u001b[39m], aoi[\u001b[39m1\u001b[39m])\n",
      "\u001b[0;31mValueError\u001b[0m: invalid literal for int() with base 2: '0b0.00.01.00.00.01.00.01.0'"
     ]
    }
   ],
   "source": [
    "\n",
    "def objective_function(x, y):\n",
    "    return 1.5 - np.exp(-x**2 - y**2) - 0.5 * np.exp(-(x - 1)**2 - (y + 2)**2)\n",
    "\n",
    "\n",
    "aoi = [-2.5, 2.5]\n",
    "\n",
    "ga = GeneticAlgorithm(chromosome_length=16, obj_func_num_args=2, objective_function=objective_function, aoi=aoi)\n",
    "ga.run()"
   ]
  }
 ],
 "metadata": {
  "kernelspec": {
   "display_name": "Python 3",
   "language": "python",
   "name": "python3"
  },
  "language_info": {
   "codemirror_mode": {
    "name": "ipython",
    "version": 3
   },
   "file_extension": ".py",
   "mimetype": "text/x-python",
   "name": "python",
   "nbconvert_exporter": "python",
   "pygments_lexer": "ipython3",
   "version": "3.10.6"
  }
 },
 "nbformat": 4,
 "nbformat_minor": 2
}
