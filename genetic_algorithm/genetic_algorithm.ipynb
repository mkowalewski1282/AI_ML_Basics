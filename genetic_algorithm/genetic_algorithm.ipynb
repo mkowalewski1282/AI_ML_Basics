{
 "cells": [
  {
   "cell_type": "code",
   "execution_count": null,
   "metadata": {},
   "outputs": [],
   "source": [
    "import numpy as np\n",
    "import matplotlib.pyplot as plt\n",
    "import random"
   ]
  },
  {
   "cell_type": "code",
   "execution_count": null,
   "metadata": {},
   "outputs": [],
   "source": [
    "def min_max_norm(val, min_val, max_val, new_min, new_max):\n",
    "  return (val - min_val) * (new_max - new_min) / (max_val - min_val) + new_min"
   ]
  },
  {
   "cell_type": "code",
   "execution_count": null,
   "metadata": {},
   "outputs": [],
   "source": [
    "class Chromosome:\n",
    "  def __init__(self, length, array=None): #if array is None it should be initialized with random binary vector\n",
    "    if array is None:\n",
    "      array = [random.choice([0, 1]) for _ in range(length)]\n",
    "    self.array = array\n",
    "    self.length = length\n",
    "\n",
    "\n",
    "  def decode(self, lower_bound, upper_bound, aoi):\n",
    "    pass\n",
    "\n",
    "  def mutation(self, probability):\n",
    "    if random.random() < probability:\n",
    "      index = random.randint(0, self.length-1)\n",
    "      self.array[index] = ~self.array[index] & 1 #bitwise NOT\n",
    "\n",
    "  def crossover(self, other):\n",
    "    index = random.randint(0, self.length-1)\n",
    "    output_array_1 = np.concatenate((self.array[0:index], other.array[index:]), axis=0)\n",
    "    output_array_2 = np.concatenate((other.array[0:index], self.array[index:]), axis=0)\n",
    "    return Chromosome(self.length, output_array_1), Chromosome(self.length, output_array_2)"
   ]
  },
  {
   "cell_type": "code",
   "execution_count": null,
   "metadata": {},
   "outputs": [],
   "source": [
    "class GeneticAlgorithm:\n",
    "  def __init__(self, chromosome_length, obj_func_num_args, objective_function, aoi, population_size=1000,\n",
    "               tournament_size=2, mutation_probability=0.05, crossover_probability=0.8, num_steps=30):\n",
    "    assert chromosome_length % obj_func_num_args == 0, \"Number of bits for each argument should be equal\"\n",
    "    self.chromosome_lengths = chromosome_length\n",
    "    self.obj_func_num_args = obj_func_num_args\n",
    "    self.bits_per_arg = int(chromosome_length / obj_func_num_args)\n",
    "    self.objective_function = objective_function\n",
    "    self.aoi = aoi\n",
    "    self.tournament_size = tournament_size\n",
    "    self.mutation_probability = mutation_probability\n",
    "    self.crossover_probability = crossover_probability\n",
    "    self.num_steps = num_steps\n",
    "\n",
    "  def eval_objective_func(self, chromosome):\n",
    "    pass\n",
    "\n",
    "  def tournament_selection(self):\n",
    "    pass\n",
    "\n",
    "  def reproduce(self, parents):\n",
    "    if random.random() < self.crossover_probability:\n",
    "      return parents[0].crossover(parents[1])\n",
    "    else:\n",
    "      return parents\n",
    "\n",
    "\n",
    "  def plot_func(self, trace):\n",
    "    X = np.arange(-2, 3, 0.05)\n",
    "    Y = np.arange(-4, 2, 0.05)\n",
    "    X, Y = np.meshgrid(X, Y)\n",
    "    Z = 1.5 - np.exp(-X ** (2) - Y ** (2)) - 0.5 * np.exp(-(X - 1) ** (2) - (Y + 2) ** (2))\n",
    "    plt.figure()\n",
    "    plt.contour(X, Y, Z, 10)\n",
    "    cmaps = [[ii / len(trace), 0, 0] for ii in range(len(trace))]\n",
    "    plt.scatter([x[0] for x in trace], [x[1] for x in trace], c=cmaps)\n",
    "    plt.show()\n",
    "\n",
    "  def run(self):\n",
    "    pass"
   ]
  }
 ],
 "metadata": {
  "language_info": {
   "name": "python"
  }
 },
 "nbformat": 4,
 "nbformat_minor": 2
}
