{
  "cells": [
    {
      "cell_type": "markdown",
      "metadata": {
        "collapsed": false
      },
      "source": [
        "# Ćwiczenie 3\n",
        "\n",
        "Celem ćwiczenia jest imlementacja metody [Minimax z obcinaniem alpha-beta](https://en.wikipedia.org/wiki/Alpha%E2%80%93beta_pruning) do gry Connect Four (czwórki).\n",
        "\n",
        "W trakcie ćwiczenia można skorzystać z reposytorium z implementacją gry [Connect Four udostępnionym przez Jakuba Łyskawę](https://github.com/lychanl/two-player-games). Ewentualnie, można zaimplementować samemu grę Connect Four (ale, tak aby rozwiązanie miało ten sam interfejs co podany poniżej).\n",
        "\n",
        "Implementację Minimax należy przetestować używając różną głębokość przeszukiwania. Implementacja Solvera musi zapewniać interfejs jak poniżej, ale można dodać dowolne metody prywatne oraz klasy wspomagające (jeżeli będą potrzebne).\n",
        "\n",
        "Punktacja:\n",
        "- Działająca metoda Minimax - **2 pkt**\n",
        "- Działająca metoda Minimax z obcinaniem alpha-beta - **1.5 pkt**\n",
        "- Analiza jakości solvera w zależności od głębokości przeszukiwania **1.5pkt**\n",
        "    - należy zaimplementować w tym celu prostą wizualizację rozgrywki dwóch agentów, bądź kilka przykładów 'z ręki'\n",
        "- Jakość kodu **2pkt**"
      ]
    },
    {
      "cell_type": "markdown",
      "metadata": {
        "collapsed": false
      },
      "source": [
        "Aby importowanie elementów z poniższej komórki działało należy umieścić tego notebooka w tym samym folderze co paczkę `two_player_games`:\n",
        "```\n",
        "├── LICENSE\n",
        "├── README.md\n",
        "├── minimax.ipynb # <<< HERE\n",
        "├── test\n",
        "│   ├── __init__.py\n",
        "│   ├── test_connect_four.py\n",
        "│   ├── test_dots_and_boxes.py\n",
        "│   └── test_pick.py\n",
        "└── two_player_games\n",
        "    ├── __init__.py\n",
        "    ├── games\n",
        "    │   ├── connect_four.py\n",
        "    │   └── dots_and_boxes.py\n",
        "    ├── move.py\n",
        "    ├── player.py\n",
        "    └── state.py\n",
        "```"
      ]
    },
    {
      "cell_type": "code",
      "execution_count": 38,
      "metadata": {
        "collapsed": true
      },
      "outputs": [],
      "source": [
        "from typing import Tuple, List\n",
        "import math, random, copy\n",
        "\n",
        "from two_player_games.player import Player\n",
        "from two_player_games.games.connect_four import ConnectFour, ConnectFourMove"
      ]
    },
    {
      "cell_type": "markdown",
      "metadata": {
        "collapsed": false
      },
      "source": [
        "Wielkość planszy"
      ]
    },
    {
      "cell_type": "code",
      "execution_count": 39,
      "metadata": {
        "collapsed": false
      },
      "outputs": [],
      "source": [
        "ROW_COUNT = 6\n",
        "COLUMN_COUNT = 7\n",
        "WINDOW_LENGTH = 4"
      ]
    },
    {
      "cell_type": "code",
      "execution_count": 40,
      "metadata": {
        "collapsed": false
      },
      "outputs": [],
      "source": [
        "class MinMaxSolver:\n",
        "\n",
        "    def __init__(self, game: ConnectFour):\n",
        "        self.game = game\n",
        "\n",
        "    def evaluate_position(self, player: Player)->float:\n",
        "        score = 0\n",
        "        # Score centre column\n",
        "        # centre_array = [int(i) for i in list(self.game.state.fields[:, COLUMN_COUNT // 2])]\n",
        "        # centre_count = centre_array.count(player.char)\n",
        "        # score += centre_count * 3\n",
        "\n",
        "        # Score horizontal positions\n",
        "        for r in range(ROW_COUNT):\n",
        "            row_array = [self.game.state.fields[i][r] for i in range(COLUMN_COUNT)]\n",
        "            #for some weirds reasons column adn row indexes are switched in game.state.fields\n",
        "            for c in range(COLUMN_COUNT - 3):\n",
        "                # Create a horizontal window of 4\n",
        "                window = row_array[c:c + WINDOW_LENGTH]\n",
        "                score += self.evaluate_window(window, player)\n",
        "\n",
        "        # Score vertical positions\n",
        "        for c in range(COLUMN_COUNT):\n",
        "            col_array = [self.game.state.fields[c][i] for i in range(ROW_COUNT)]\n",
        "            #for some weirds reasons column adn row indexes are switched in game.state.fields\n",
        "            for r in range(ROW_COUNT - 3):\n",
        "                # Create a vertical window of 4\n",
        "                window = col_array[r:r + WINDOW_LENGTH]\n",
        "                score += self.evaluate_window(window, player)\n",
        "\n",
        "        # Score positive diagonals\n",
        "        for r in range(ROW_COUNT - 3):\n",
        "            for c in range(COLUMN_COUNT - 3):\n",
        "                # Create a positive diagonal window of 4\n",
        "                window = [self.game.state.fields[c + i][r + i] for i in range(WINDOW_LENGTH)]\n",
        "                #for some weirds reasons column and row indexes are switched in game.state.fields\n",
        "                score += self.evaluate_window(window, player)\n",
        "\n",
        "        # Score negative diagonals\n",
        "        for r in range(ROW_COUNT - 3):\n",
        "            for c in range(COLUMN_COUNT - 3):\n",
        "                # Create a negative diagonal window of 4\n",
        "                window = [self.game.state.fields[c + 3 - i][r + i] for i in range(WINDOW_LENGTH)]\n",
        "                #for some weirds reasons column adn row indexes are switched in game.state.fields\n",
        "                score += self.evaluate_window(window, player)\n",
        "        return score\n",
        "\n",
        "    def evaluate_window(self, window, player: Player)->float:\n",
        "        score = 0\n",
        "        if window.count(player.char) == 4:\n",
        "            score += 100\n",
        "        elif window.count(player.char) == 3 and window.count(None) == 1:\n",
        "            score += 5\n",
        "        elif window.count(player.char) == 2 and window.count(None) == 2:\n",
        "            score += 2\n",
        "\n",
        "        if player.char == 'a':\n",
        "            opposite_player = 'b'\n",
        "        else:\n",
        "            opposite_player = 'a'\n",
        "        if window.count(opposite_player) == 3 and window.count(None) == 1:\n",
        "            score -= 4\n",
        "        return score\n",
        "\n",
        "\n",
        "    def get_best_move(self)->int:\n",
        "        pass\n",
        "\n",
        "    def is_valid_move(self, col_index:int)->bool:\n",
        "        pass\n",
        "\n",
        "    def get_valid_moves(self)->List[int]:\n",
        "        return [move.column for move in self.game.get_moves()]\n",
        "\n",
        "    def minimax(self, depth, alpha:float, beta:float, is_maximizing_player:bool)-> Tuple[int, float]:\n",
        "        valid_moves = self.get_valid_moves()\n",
        "        is_finished = self.game.is_finished()\n",
        "        if depth == 0 or is_finished:\n",
        "            if is_finished:\n",
        "                if self.game.get_winner() == self.game.first_player:\n",
        "                    return None, 1\n",
        "                else:\n",
        "                    return None, -1\n",
        "            else: # Depth is zero\n",
        "                if is_maximizing_player:\n",
        "                    return None, self.evaluate_position(self.game.first_player)\n",
        "                else:\n",
        "                    return None, self.evaluate_position(self.game.second_player)\n",
        "        if is_maximizing_player:\n",
        "            value = -math.inf\n",
        "            column = random.choice(valid_moves)\n",
        "            for col in valid_moves:\n",
        "                game_copy = copy.deepcopy(self.game)\n",
        "                game_copy.make_move(ConnectFourMove(col)) # Gotta check if _current_player is valid\n",
        "                copy_minimax = MinMaxSolver(game_copy)\n",
        "                new_score = copy_minimax.minimax(depth-1, alpha, beta, False)[1]\n",
        "                if new_score > value:\n",
        "                    value = new_score\n",
        "                    column = col\n",
        "                alpha = max(alpha, value)\n",
        "                if alpha >= beta:\n",
        "                    break\n",
        "            return column, value\n",
        "\n",
        "        else: # Minimizing player\n",
        "            value = math.inf\n",
        "            column = random.choice(valid_moves)\n",
        "            for col in valid_moves:\n",
        "                game_copy = copy.deepcopy(self.game)\n",
        "                game_copy.make_move(ConnectFourMove(col)) # Gotta check if _current_player is valid\n",
        "                copy_minimax = MinMaxSolver(game_copy)\n",
        "                new_score = copy_minimax.minimax(depth-1, alpha, beta, True)[1]\n",
        "                if new_score < value:\n",
        "                    value = new_score\n",
        "                    column = col\n",
        "                beta = min(beta, value)\n",
        "                if alpha >= beta:\n",
        "                    break\n",
        "            return column, value"
      ]
    },
    {
      "cell_type": "markdown",
      "metadata": {
        "collapsed": false
      },
      "source": [
        "Rozgrywka"
      ]
    },
    {
      "cell_type": "code",
      "execution_count": 41,
      "metadata": {
        "collapsed": false
      },
      "outputs": [
        {
          "name": "stdout",
          "output_type": "stream",
          "text": [
            "Current player: a\n",
            "[ ][ ][ ][ ][ ][ ][ ]\n",
            "[ ][ ][ ][ ][ ][ ][ ]\n",
            "[ ][ ][ ][ ][ ][ ][ ]\n",
            "[ ][ ][ ][ ][ ][ ][ ]\n",
            "[ ][ ][ ][ ][ ][ ][ ]\n",
            "[ ][ ][ ][ ][ ][ ][ ]\n",
            "1\n",
            "2\n",
            "3\n",
            "4\n",
            "5\n",
            "6\n",
            "7\n",
            "8\n",
            "9\n",
            "10\n",
            "11\n",
            "12\n",
            "13\n",
            "14\n",
            "15\n",
            "16\n",
            "17\n",
            "18\n",
            "19\n",
            "Current player: b\n",
            "[b][b][b][ ][ ][ ][ ]\n",
            "[a][a][a][ ][ ][ ][ ]\n",
            "[b][b][b][ ][ ][ ][ ]\n",
            "[a][a][a][ ][ ][ ][ ]\n",
            "[b][b][b][ ][ ][ ][ ]\n",
            "[a][a][a][a][ ][ ][ ]\n",
            "a\n"
          ]
        }
      ],
      "source": [
        "p1 = Player(\"a\")\n",
        "p2 = Player(\"b\")\n",
        "game = ConnectFour(size=(COLUMN_COUNT, ROW_COUNT), first_player=p1, second_player=p2)\n",
        "# game.make_move(ConnectFourMove(6))\n",
        "# game.make_move(ConnectFourMove(2))\n",
        "# game.make_move(ConnectFourMove(6))\n",
        "# game.make_move(ConnectFourMove(3))\n",
        "# game.make_move(ConnectFourMove(6))\n",
        "print(game)\n",
        "\n",
        "\n",
        "mini_max_solver = MinMaxSolver(game)\n",
        "iteration = 0\n",
        "while not game.is_finished():\n",
        "    column, value = mini_max_solver.minimax(4, 0, 0, True)\n",
        "    game.make_move(ConnectFourMove(column))\n",
        "    iteration += 1\n",
        "    print(iteration)\n",
        "\n",
        "print(game)\n",
        "print(game.get_winner().char)\n",
        "# print(str(game.get_winner().char))"
      ]
    }
  ],
  "metadata": {
    "kernelspec": {
      "display_name": "Python 3",
      "language": "python",
      "name": "python3"
    },
    "language_info": {
      "codemirror_mode": {
        "name": "ipython",
        "version": 3
      },
      "file_extension": ".py",
      "mimetype": "text/x-python",
      "name": "python",
      "nbconvert_exporter": "python",
      "pygments_lexer": "ipython3",
      "version": "3.10.6"
    },
    "nteract": {
      "version": "nteract-front-end@1.0.0"
    }
  },
  "nbformat": 4,
  "nbformat_minor": 0
}
