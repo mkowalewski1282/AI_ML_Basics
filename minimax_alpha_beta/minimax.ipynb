{
  "cells": [
    {
      "cell_type": "markdown",
      "metadata": {
        "collapsed": false
      },
      "source": [
        "# Ćwiczenie 3\n",
        "\n",
        "Celem ćwiczenia jest imlementacja metody [Minimax z obcinaniem alpha-beta](https://en.wikipedia.org/wiki/Alpha%E2%80%93beta_pruning) do gry Connect Four (czwórki).\n",
        "\n",
        "W trakcie ćwiczenia można skorzystać z reposytorium z implementacją gry [Connect Four udostępnionym przez Jakuba Łyskawę](https://github.com/lychanl/two-player-games). Ewentualnie, można zaimplementować samemu grę Connect Four (ale, tak aby rozwiązanie miało ten sam interfejs co podany poniżej).\n",
        "\n",
        "Implementację Minimax należy przetestować używając różną głębokość przeszukiwania. Implementacja Solvera musi zapewniać interfejs jak poniżej, ale można dodać dowolne metody prywatne oraz klasy wspomagające (jeżeli będą potrzebne).\n",
        "\n",
        "Punktacja:\n",
        "- Działająca metoda Minimax - **2 pkt**\n",
        "- Działająca metoda Minimax z obcinaniem alpha-beta - **1.5 pkt**\n",
        "- Analiza jakości solvera w zależności od głębokości przeszukiwania **1.5pkt**\n",
        "    - należy zaimplementować w tym celu prostą wizualizację rozgrywki dwóch agentów, bądź kilka przykładów 'z ręki'\n",
        "- Jakość kodu **2pkt**"
      ]
    },
    {
      "cell_type": "markdown",
      "metadata": {
        "collapsed": false
      },
      "source": [
        "Aby importowanie elementów z poniższej komórki działało należy umieścić tego notebooka w tym samym folderze co paczkę `two_player_games`:\n",
        "```\n",
        "├── LICENSE\n",
        "├── README.md\n",
        "├── minimax.ipynb # <<< HERE\n",
        "├── test\n",
        "│   ├── __init__.py\n",
        "│   ├── test_connect_four.py\n",
        "│   ├── test_dots_and_boxes.py\n",
        "│   └── test_pick.py\n",
        "└── two_player_games\n",
        "    ├── __init__.py\n",
        "    ├── games\n",
        "    │   ├── connect_four.py\n",
        "    │   └── dots_and_boxes.py\n",
        "    ├── move.py\n",
        "    ├── player.py\n",
        "    └── state.py\n",
        "```"
      ]
    },
    {
      "cell_type": "code",
      "execution_count": 41,
      "metadata": {
        "collapsed": true
      },
      "outputs": [],
      "source": [
        "from typing import Tuple, List\n",
        "import math, random, copy\n",
        "\n",
        "from two_player_games.player import Player\n",
        "from two_player_games.games.connect_four import ConnectFour, ConnectFourMove"
      ]
    },
    {
      "cell_type": "markdown",
      "metadata": {
        "collapsed": false
      },
      "source": [
        "Wielkość planszy"
      ]
    },
    {
      "cell_type": "code",
      "execution_count": 42,
      "metadata": {
        "collapsed": false
      },
      "outputs": [],
      "source": [
        "ROW_COUNT = 6\n",
        "COLUMN_COUNT = 7\n",
        "WINDOW_LENGTH = 4"
      ]
    },
    {
      "cell_type": "code",
      "execution_count": 43,
      "metadata": {
        "collapsed": false
      },
      "outputs": [],
      "source": [
        "class MinMaxSolver:\n",
        "\n",
        "    def __init__(self, game: ConnectFour):\n",
        "        self.game = game\n",
        "\n",
        "    def evaluate_position(self, player: Player)->float:\n",
        "        score = 0\n",
        "        # Score centre column\n",
        "        # centre_array = [int(i) for i in list(self.game.state.fields[:, COLUMN_COUNT // 2])]\n",
        "        # centre_count = centre_array.count(player.char())\n",
        "        # score += centre_count * 3\n",
        "\n",
        "        # Score horizontal positions\n",
        "        for r in range(ROW_COUNT):\n",
        "            row_array = [self.game.state.fields[r][i] for i in range(COLUMN_COUNT)]\n",
        "            for c in range(COLUMN_COUNT - 3):\n",
        "                # Create a horizontal window of 4\n",
        "                window = row_array[c:c + WINDOW_LENGTH]\n",
        "                score += self.evaluate_window(window, player)\n",
        "\n",
        "        # Score vertical positions\n",
        "        for c in range(COLUMN_COUNT):\n",
        "            col_array = [self.game.state.fields[i][c] for i in range(ROW_COUNT)]\n",
        "            for r in range(ROW_COUNT - 3):\n",
        "                # Create a vertical window of 4\n",
        "                window = col_array[r:r + WINDOW_LENGTH]\n",
        "                score += self.evaluate_window(window, player)\n",
        "\n",
        "        # Score positive diagonals\n",
        "        for r in range(ROW_COUNT - 3):\n",
        "            for c in range(COLUMN_COUNT - 3):\n",
        "                # Create a positive diagonal window of 4\n",
        "                window = [self.game.state.fields[r + i][c + i] for i in range(WINDOW_LENGTH)]\n",
        "                score += self.evaluate_window(window, player)\n",
        "\n",
        "        # Score negative diagonals\n",
        "        for r in range(ROW_COUNT - 3):\n",
        "            for c in range(COLUMN_COUNT - 3):\n",
        "                # Create a negative diagonal window of 4\n",
        "                window = [self.game.state.fields[r + 3 - i][c + i] for i in range(WINDOW_LENGTH)]\n",
        "                score += self.evaluate_window(window, player)\n",
        "        return score\n",
        "\n",
        "    def evaluate_window(self, window, player: Player)->float:\n",
        "        score = 0\n",
        "        if window.count(player.char()) == 4:\n",
        "            score += 100\n",
        "        elif window.count(player.char()) == 3 and window.count(None) == 1:\n",
        "            score += 5\n",
        "        elif window.count(player.char()) == 2 and window.count(None) == 2:\n",
        "            score += 2\n",
        "\n",
        "        if player.char() == 'a':\n",
        "            opposite_player = 'b'\n",
        "        else:\n",
        "            opposite_player = 'a'\n",
        "        if window.count(opposite_player) == 3 and window.count(None) == 1:\n",
        "            score -= 4\n",
        "        return score\n",
        "\n",
        "\n",
        "    def get_best_move(self)->int:\n",
        "        pass\n",
        "\n",
        "    def is_valid_move(self, col_index:int)->bool:\n",
        "        pass\n",
        "\n",
        "    def get_valid_moves(self)->List[int]:\n",
        "        return [move.column for move in self.game.get_moves()]\n",
        "\n",
        "    def minimax(self, depth, alpha:float, beta:float, is_maximizing_player:bool)-> Tuple[int, float]:\n",
        "        valid_moves = self.get_valid_moves()\n",
        "        is_finished = self.game.is_finished()\n",
        "        if depth == 0 or is_finished:\n",
        "            if is_finished:\n",
        "                return self.game.get_winner()\n",
        "            else: # Depth is zero\n",
        "                if is_maximizing_player:\n",
        "                    return (None, self.evaluate_position(self.game.first_player))\n",
        "                else:\n",
        "                    return (None, self.evaluate_position(self.game.second_player))\n",
        "        if is_maximizing_player:\n",
        "            value = -math.inf\n",
        "            column = random.choice(valid_moves)\n",
        "            for col in valid_moves:\n",
        "                game_copy = copy.deepcopy(self.game)\n",
        "                game_copy.make_move(ConnectFourMove(col)) # Gotta check if _current_player is valid\n",
        "                copy_minimax = MinMaxSolver(game_copy)\n",
        "                new_score = copy_minimax.minimax(depth-1, alpha, beta, False)[1]\n",
        "                if new_score > value:\n",
        "                    value = new_score\n",
        "                    column = col\n",
        "                alpha = max(alpha, value)\n",
        "                if alpha >= beta:\n",
        "                    break\n",
        "            return column, value\n",
        "\n",
        "        else: # Minimizing player\n",
        "            value = math.inf\n",
        "            column = random.choice(valid_moves)\n",
        "            for col in valid_moves:\n",
        "                game_copy = copy.deepcopy(self.game)\n",
        "                game_copy.make_move(ConnectFourMove(col)) # Gotta check if _current_player is valid\n",
        "                copy_minimax = MinMaxSolver(game_copy)\n",
        "                new_score = copy_minimax.minimax(depth-1, alpha, beta, True)[1]\n",
        "                if new_score < value:\n",
        "                    value = new_score\n",
        "                    column = col\n",
        "                beta = min(beta, value)\n",
        "                if alpha >= beta:\n",
        "                    break\n",
        "            return column, value"
      ]
    },
    {
      "cell_type": "markdown",
      "metadata": {
        "collapsed": false
      },
      "source": [
        "Rozgrywka"
      ]
    },
    {
      "cell_type": "code",
      "execution_count": 45,
      "metadata": {
        "collapsed": false
      },
      "outputs": [
        {
          "name": "stdout",
          "output_type": "stream",
          "text": [
            "[0, 1, 2, 3, 4, 5, 6]\n"
          ]
        },
        {
          "ename": "IndexError",
          "evalue": "list index out of range",
          "output_type": "error",
          "traceback": [
            "\u001b[0;31m---------------------------------------------------------------------------\u001b[0m",
            "\u001b[0;31mIndexError\u001b[0m                                Traceback (most recent call last)",
            "\u001b[1;32m/home/milosz/5_semestr/WSI/WSI-lab/wsi-lab/minimax_alpha_beta/minimax.ipynb Cell 8\u001b[0m line \u001b[0;36m1\n\u001b[1;32m      <a href='vscode-notebook-cell://wsl%2Bubuntu/home/milosz/5_semestr/WSI/WSI-lab/wsi-lab/minimax_alpha_beta/minimax.ipynb#X10sdnNjb2RlLXJlbW90ZQ%3D%3D?line=8'>9</a>\u001b[0m \u001b[39mprint\u001b[39m([move\u001b[39m.\u001b[39mcolumn \u001b[39mfor\u001b[39;00m move \u001b[39min\u001b[39;00m game\u001b[39m.\u001b[39mget_moves()])\n\u001b[1;32m     <a href='vscode-notebook-cell://wsl%2Bubuntu/home/milosz/5_semestr/WSI/WSI-lab/wsi-lab/minimax_alpha_beta/minimax.ipynb#X10sdnNjb2RlLXJlbW90ZQ%3D%3D?line=9'>10</a>\u001b[0m mini_max_solver \u001b[39m=\u001b[39m MinMaxSolver(game)\n\u001b[0;32m---> <a href='vscode-notebook-cell://wsl%2Bubuntu/home/milosz/5_semestr/WSI/WSI-lab/wsi-lab/minimax_alpha_beta/minimax.ipynb#X10sdnNjb2RlLXJlbW90ZQ%3D%3D?line=10'>11</a>\u001b[0m mini_max_solver\u001b[39m.\u001b[39;49mminimax(\u001b[39m4\u001b[39;49m, \u001b[39m0\u001b[39;49m, \u001b[39m0\u001b[39;49m, \u001b[39mTrue\u001b[39;49;00m)\n\u001b[1;32m     <a href='vscode-notebook-cell://wsl%2Bubuntu/home/milosz/5_semestr/WSI/WSI-lab/wsi-lab/minimax_alpha_beta/minimax.ipynb#X10sdnNjb2RlLXJlbW90ZQ%3D%3D?line=12'>13</a>\u001b[0m \u001b[39mprint\u001b[39m(game)\n\u001b[1;32m     <a href='vscode-notebook-cell://wsl%2Bubuntu/home/milosz/5_semestr/WSI/WSI-lab/wsi-lab/minimax_alpha_beta/minimax.ipynb#X10sdnNjb2RlLXJlbW90ZQ%3D%3D?line=13'>14</a>\u001b[0m \u001b[39m# print(str(game.get_winner().char))\u001b[39;00m\n",
            "\u001b[1;32m/home/milosz/5_semestr/WSI/WSI-lab/wsi-lab/minimax_alpha_beta/minimax.ipynb Cell 8\u001b[0m line \u001b[0;36m8\n\u001b[1;32m     <a href='vscode-notebook-cell://wsl%2Bubuntu/home/milosz/5_semestr/WSI/WSI-lab/wsi-lab/minimax_alpha_beta/minimax.ipynb#X10sdnNjb2RlLXJlbW90ZQ%3D%3D?line=86'>87</a>\u001b[0m game_copy\u001b[39m.\u001b[39mmake_move(ConnectFourMove(col)) \u001b[39m# Gotta check if _current_player is valid\u001b[39;00m\n\u001b[1;32m     <a href='vscode-notebook-cell://wsl%2Bubuntu/home/milosz/5_semestr/WSI/WSI-lab/wsi-lab/minimax_alpha_beta/minimax.ipynb#X10sdnNjb2RlLXJlbW90ZQ%3D%3D?line=87'>88</a>\u001b[0m copy_minimax \u001b[39m=\u001b[39m MinMaxSolver(game_copy)\n\u001b[0;32m---> <a href='vscode-notebook-cell://wsl%2Bubuntu/home/milosz/5_semestr/WSI/WSI-lab/wsi-lab/minimax_alpha_beta/minimax.ipynb#X10sdnNjb2RlLXJlbW90ZQ%3D%3D?line=88'>89</a>\u001b[0m new_score \u001b[39m=\u001b[39m copy_minimax\u001b[39m.\u001b[39;49mminimax(depth\u001b[39m-\u001b[39;49m\u001b[39m1\u001b[39;49m, alpha, beta, \u001b[39mFalse\u001b[39;49;00m)[\u001b[39m1\u001b[39m]\n\u001b[1;32m     <a href='vscode-notebook-cell://wsl%2Bubuntu/home/milosz/5_semestr/WSI/WSI-lab/wsi-lab/minimax_alpha_beta/minimax.ipynb#X10sdnNjb2RlLXJlbW90ZQ%3D%3D?line=89'>90</a>\u001b[0m \u001b[39mif\u001b[39;00m new_score \u001b[39m>\u001b[39m value:\n\u001b[1;32m     <a href='vscode-notebook-cell://wsl%2Bubuntu/home/milosz/5_semestr/WSI/WSI-lab/wsi-lab/minimax_alpha_beta/minimax.ipynb#X10sdnNjb2RlLXJlbW90ZQ%3D%3D?line=90'>91</a>\u001b[0m     value \u001b[39m=\u001b[39m new_score\n",
            "\u001b[1;32m/home/milosz/5_semestr/WSI/WSI-lab/wsi-lab/minimax_alpha_beta/minimax.ipynb Cell 8\u001b[0m line \u001b[0;36m1\n\u001b[1;32m    <a href='vscode-notebook-cell://wsl%2Bubuntu/home/milosz/5_semestr/WSI/WSI-lab/wsi-lab/minimax_alpha_beta/minimax.ipynb#X10sdnNjb2RlLXJlbW90ZQ%3D%3D?line=102'>103</a>\u001b[0m game_copy\u001b[39m.\u001b[39mmake_move(ConnectFourMove(col)) \u001b[39m# Gotta check if _current_player is valid\u001b[39;00m\n\u001b[1;32m    <a href='vscode-notebook-cell://wsl%2Bubuntu/home/milosz/5_semestr/WSI/WSI-lab/wsi-lab/minimax_alpha_beta/minimax.ipynb#X10sdnNjb2RlLXJlbW90ZQ%3D%3D?line=103'>104</a>\u001b[0m copy_minimax \u001b[39m=\u001b[39m MinMaxSolver(game_copy)\n\u001b[0;32m--> <a href='vscode-notebook-cell://wsl%2Bubuntu/home/milosz/5_semestr/WSI/WSI-lab/wsi-lab/minimax_alpha_beta/minimax.ipynb#X10sdnNjb2RlLXJlbW90ZQ%3D%3D?line=104'>105</a>\u001b[0m new_score \u001b[39m=\u001b[39m copy_minimax\u001b[39m.\u001b[39;49mminimax(depth\u001b[39m-\u001b[39;49m\u001b[39m1\u001b[39;49m, alpha, beta, \u001b[39mTrue\u001b[39;49;00m)[\u001b[39m1\u001b[39m]\n\u001b[1;32m    <a href='vscode-notebook-cell://wsl%2Bubuntu/home/milosz/5_semestr/WSI/WSI-lab/wsi-lab/minimax_alpha_beta/minimax.ipynb#X10sdnNjb2RlLXJlbW90ZQ%3D%3D?line=105'>106</a>\u001b[0m \u001b[39mif\u001b[39;00m new_score \u001b[39m<\u001b[39m value:\n\u001b[1;32m    <a href='vscode-notebook-cell://wsl%2Bubuntu/home/milosz/5_semestr/WSI/WSI-lab/wsi-lab/minimax_alpha_beta/minimax.ipynb#X10sdnNjb2RlLXJlbW90ZQ%3D%3D?line=106'>107</a>\u001b[0m     value \u001b[39m=\u001b[39m new_score\n",
            "\u001b[1;32m/home/milosz/5_semestr/WSI/WSI-lab/wsi-lab/minimax_alpha_beta/minimax.ipynb Cell 8\u001b[0m line \u001b[0;36m8\n\u001b[1;32m     <a href='vscode-notebook-cell://wsl%2Bubuntu/home/milosz/5_semestr/WSI/WSI-lab/wsi-lab/minimax_alpha_beta/minimax.ipynb#X10sdnNjb2RlLXJlbW90ZQ%3D%3D?line=86'>87</a>\u001b[0m game_copy\u001b[39m.\u001b[39mmake_move(ConnectFourMove(col)) \u001b[39m# Gotta check if _current_player is valid\u001b[39;00m\n\u001b[1;32m     <a href='vscode-notebook-cell://wsl%2Bubuntu/home/milosz/5_semestr/WSI/WSI-lab/wsi-lab/minimax_alpha_beta/minimax.ipynb#X10sdnNjb2RlLXJlbW90ZQ%3D%3D?line=87'>88</a>\u001b[0m copy_minimax \u001b[39m=\u001b[39m MinMaxSolver(game_copy)\n\u001b[0;32m---> <a href='vscode-notebook-cell://wsl%2Bubuntu/home/milosz/5_semestr/WSI/WSI-lab/wsi-lab/minimax_alpha_beta/minimax.ipynb#X10sdnNjb2RlLXJlbW90ZQ%3D%3D?line=88'>89</a>\u001b[0m new_score \u001b[39m=\u001b[39m copy_minimax\u001b[39m.\u001b[39;49mminimax(depth\u001b[39m-\u001b[39;49m\u001b[39m1\u001b[39;49m, alpha, beta, \u001b[39mFalse\u001b[39;49;00m)[\u001b[39m1\u001b[39m]\n\u001b[1;32m     <a href='vscode-notebook-cell://wsl%2Bubuntu/home/milosz/5_semestr/WSI/WSI-lab/wsi-lab/minimax_alpha_beta/minimax.ipynb#X10sdnNjb2RlLXJlbW90ZQ%3D%3D?line=89'>90</a>\u001b[0m \u001b[39mif\u001b[39;00m new_score \u001b[39m>\u001b[39m value:\n\u001b[1;32m     <a href='vscode-notebook-cell://wsl%2Bubuntu/home/milosz/5_semestr/WSI/WSI-lab/wsi-lab/minimax_alpha_beta/minimax.ipynb#X10sdnNjb2RlLXJlbW90ZQ%3D%3D?line=90'>91</a>\u001b[0m     value \u001b[39m=\u001b[39m new_score\n",
            "\u001b[1;32m/home/milosz/5_semestr/WSI/WSI-lab/wsi-lab/minimax_alpha_beta/minimax.ipynb Cell 8\u001b[0m line \u001b[0;36m1\n\u001b[1;32m    <a href='vscode-notebook-cell://wsl%2Bubuntu/home/milosz/5_semestr/WSI/WSI-lab/wsi-lab/minimax_alpha_beta/minimax.ipynb#X10sdnNjb2RlLXJlbW90ZQ%3D%3D?line=102'>103</a>\u001b[0m game_copy\u001b[39m.\u001b[39mmake_move(ConnectFourMove(col)) \u001b[39m# Gotta check if _current_player is valid\u001b[39;00m\n\u001b[1;32m    <a href='vscode-notebook-cell://wsl%2Bubuntu/home/milosz/5_semestr/WSI/WSI-lab/wsi-lab/minimax_alpha_beta/minimax.ipynb#X10sdnNjb2RlLXJlbW90ZQ%3D%3D?line=103'>104</a>\u001b[0m copy_minimax \u001b[39m=\u001b[39m MinMaxSolver(game_copy)\n\u001b[0;32m--> <a href='vscode-notebook-cell://wsl%2Bubuntu/home/milosz/5_semestr/WSI/WSI-lab/wsi-lab/minimax_alpha_beta/minimax.ipynb#X10sdnNjb2RlLXJlbW90ZQ%3D%3D?line=104'>105</a>\u001b[0m new_score \u001b[39m=\u001b[39m copy_minimax\u001b[39m.\u001b[39;49mminimax(depth\u001b[39m-\u001b[39;49m\u001b[39m1\u001b[39;49m, alpha, beta, \u001b[39mTrue\u001b[39;49;00m)[\u001b[39m1\u001b[39m]\n\u001b[1;32m    <a href='vscode-notebook-cell://wsl%2Bubuntu/home/milosz/5_semestr/WSI/WSI-lab/wsi-lab/minimax_alpha_beta/minimax.ipynb#X10sdnNjb2RlLXJlbW90ZQ%3D%3D?line=105'>106</a>\u001b[0m \u001b[39mif\u001b[39;00m new_score \u001b[39m<\u001b[39m value:\n\u001b[1;32m    <a href='vscode-notebook-cell://wsl%2Bubuntu/home/milosz/5_semestr/WSI/WSI-lab/wsi-lab/minimax_alpha_beta/minimax.ipynb#X10sdnNjb2RlLXJlbW90ZQ%3D%3D?line=106'>107</a>\u001b[0m     value \u001b[39m=\u001b[39m new_score\n",
            "\u001b[1;32m/home/milosz/5_semestr/WSI/WSI-lab/wsi-lab/minimax_alpha_beta/minimax.ipynb Cell 8\u001b[0m line \u001b[0;36m7\n\u001b[1;32m     <a href='vscode-notebook-cell://wsl%2Bubuntu/home/milosz/5_semestr/WSI/WSI-lab/wsi-lab/minimax_alpha_beta/minimax.ipynb#X10sdnNjb2RlLXJlbW90ZQ%3D%3D?line=76'>77</a>\u001b[0m \u001b[39melse\u001b[39;00m: \u001b[39m# Depth is zero\u001b[39;00m\n\u001b[1;32m     <a href='vscode-notebook-cell://wsl%2Bubuntu/home/milosz/5_semestr/WSI/WSI-lab/wsi-lab/minimax_alpha_beta/minimax.ipynb#X10sdnNjb2RlLXJlbW90ZQ%3D%3D?line=77'>78</a>\u001b[0m     \u001b[39mif\u001b[39;00m is_maximizing_player:\n\u001b[0;32m---> <a href='vscode-notebook-cell://wsl%2Bubuntu/home/milosz/5_semestr/WSI/WSI-lab/wsi-lab/minimax_alpha_beta/minimax.ipynb#X10sdnNjb2RlLXJlbW90ZQ%3D%3D?line=78'>79</a>\u001b[0m         \u001b[39mreturn\u001b[39;00m (\u001b[39mNone\u001b[39;00m, \u001b[39mself\u001b[39;49m\u001b[39m.\u001b[39;49mevaluate_position(\u001b[39mself\u001b[39;49m\u001b[39m.\u001b[39;49mgame\u001b[39m.\u001b[39;49mfirst_player))\n\u001b[1;32m     <a href='vscode-notebook-cell://wsl%2Bubuntu/home/milosz/5_semestr/WSI/WSI-lab/wsi-lab/minimax_alpha_beta/minimax.ipynb#X10sdnNjb2RlLXJlbW90ZQ%3D%3D?line=79'>80</a>\u001b[0m     \u001b[39melse\u001b[39;00m:\n\u001b[1;32m     <a href='vscode-notebook-cell://wsl%2Bubuntu/home/milosz/5_semestr/WSI/WSI-lab/wsi-lab/minimax_alpha_beta/minimax.ipynb#X10sdnNjb2RlLXJlbW90ZQ%3D%3D?line=80'>81</a>\u001b[0m         \u001b[39mreturn\u001b[39;00m (\u001b[39mNone\u001b[39;00m, \u001b[39mself\u001b[39m\u001b[39m.\u001b[39mevaluate_position(\u001b[39mself\u001b[39m\u001b[39m.\u001b[39mgame\u001b[39m.\u001b[39msecond_player))\n",
            "\u001b[1;32m/home/milosz/5_semestr/WSI/WSI-lab/wsi-lab/minimax_alpha_beta/minimax.ipynb Cell 8\u001b[0m line \u001b[0;36m1\n\u001b[1;32m      <a href='vscode-notebook-cell://wsl%2Bubuntu/home/milosz/5_semestr/WSI/WSI-lab/wsi-lab/minimax_alpha_beta/minimax.ipynb#X10sdnNjb2RlLXJlbW90ZQ%3D%3D?line=7'>8</a>\u001b[0m \u001b[39m# Score centre column\u001b[39;00m\n\u001b[1;32m      <a href='vscode-notebook-cell://wsl%2Bubuntu/home/milosz/5_semestr/WSI/WSI-lab/wsi-lab/minimax_alpha_beta/minimax.ipynb#X10sdnNjb2RlLXJlbW90ZQ%3D%3D?line=8'>9</a>\u001b[0m \u001b[39m# centre_array = [int(i) for i in list(self.game.state.fields[:, COLUMN_COUNT // 2])]\u001b[39;00m\n\u001b[1;32m     <a href='vscode-notebook-cell://wsl%2Bubuntu/home/milosz/5_semestr/WSI/WSI-lab/wsi-lab/minimax_alpha_beta/minimax.ipynb#X10sdnNjb2RlLXJlbW90ZQ%3D%3D?line=9'>10</a>\u001b[0m \u001b[39m# centre_count = centre_array.count(player.char())\u001b[39;00m\n\u001b[1;32m     <a href='vscode-notebook-cell://wsl%2Bubuntu/home/milosz/5_semestr/WSI/WSI-lab/wsi-lab/minimax_alpha_beta/minimax.ipynb#X10sdnNjb2RlLXJlbW90ZQ%3D%3D?line=10'>11</a>\u001b[0m \u001b[39m# score += centre_count * 3\u001b[39;00m\n\u001b[1;32m     <a href='vscode-notebook-cell://wsl%2Bubuntu/home/milosz/5_semestr/WSI/WSI-lab/wsi-lab/minimax_alpha_beta/minimax.ipynb#X10sdnNjb2RlLXJlbW90ZQ%3D%3D?line=11'>12</a>\u001b[0m \n\u001b[1;32m     <a href='vscode-notebook-cell://wsl%2Bubuntu/home/milosz/5_semestr/WSI/WSI-lab/wsi-lab/minimax_alpha_beta/minimax.ipynb#X10sdnNjb2RlLXJlbW90ZQ%3D%3D?line=12'>13</a>\u001b[0m \u001b[39m# Score horizontal positions\u001b[39;00m\n\u001b[1;32m     <a href='vscode-notebook-cell://wsl%2Bubuntu/home/milosz/5_semestr/WSI/WSI-lab/wsi-lab/minimax_alpha_beta/minimax.ipynb#X10sdnNjb2RlLXJlbW90ZQ%3D%3D?line=13'>14</a>\u001b[0m \u001b[39mfor\u001b[39;00m r \u001b[39min\u001b[39;00m \u001b[39mrange\u001b[39m(ROW_COUNT):\n\u001b[0;32m---> <a href='vscode-notebook-cell://wsl%2Bubuntu/home/milosz/5_semestr/WSI/WSI-lab/wsi-lab/minimax_alpha_beta/minimax.ipynb#X10sdnNjb2RlLXJlbW90ZQ%3D%3D?line=14'>15</a>\u001b[0m     row_array \u001b[39m=\u001b[39m [\u001b[39mself\u001b[39m\u001b[39m.\u001b[39mgame\u001b[39m.\u001b[39mstate\u001b[39m.\u001b[39mfields[r][i] \u001b[39mfor\u001b[39;00m i \u001b[39min\u001b[39;00m \u001b[39mrange\u001b[39m(COLUMN_COUNT)]\n\u001b[1;32m     <a href='vscode-notebook-cell://wsl%2Bubuntu/home/milosz/5_semestr/WSI/WSI-lab/wsi-lab/minimax_alpha_beta/minimax.ipynb#X10sdnNjb2RlLXJlbW90ZQ%3D%3D?line=15'>16</a>\u001b[0m     \u001b[39mfor\u001b[39;00m c \u001b[39min\u001b[39;00m \u001b[39mrange\u001b[39m(COLUMN_COUNT \u001b[39m-\u001b[39m \u001b[39m3\u001b[39m):\n\u001b[1;32m     <a href='vscode-notebook-cell://wsl%2Bubuntu/home/milosz/5_semestr/WSI/WSI-lab/wsi-lab/minimax_alpha_beta/minimax.ipynb#X10sdnNjb2RlLXJlbW90ZQ%3D%3D?line=16'>17</a>\u001b[0m         \u001b[39m# Create a horizontal window of 4\u001b[39;00m\n\u001b[1;32m     <a href='vscode-notebook-cell://wsl%2Bubuntu/home/milosz/5_semestr/WSI/WSI-lab/wsi-lab/minimax_alpha_beta/minimax.ipynb#X10sdnNjb2RlLXJlbW90ZQ%3D%3D?line=17'>18</a>\u001b[0m         window \u001b[39m=\u001b[39m row_array[c:c \u001b[39m+\u001b[39m WINDOW_LENGTH]\n",
            "\u001b[1;32m/home/milosz/5_semestr/WSI/WSI-lab/wsi-lab/minimax_alpha_beta/minimax.ipynb Cell 8\u001b[0m line \u001b[0;36m1\n\u001b[1;32m      <a href='vscode-notebook-cell://wsl%2Bubuntu/home/milosz/5_semestr/WSI/WSI-lab/wsi-lab/minimax_alpha_beta/minimax.ipynb#X10sdnNjb2RlLXJlbW90ZQ%3D%3D?line=7'>8</a>\u001b[0m \u001b[39m# Score centre column\u001b[39;00m\n\u001b[1;32m      <a href='vscode-notebook-cell://wsl%2Bubuntu/home/milosz/5_semestr/WSI/WSI-lab/wsi-lab/minimax_alpha_beta/minimax.ipynb#X10sdnNjb2RlLXJlbW90ZQ%3D%3D?line=8'>9</a>\u001b[0m \u001b[39m# centre_array = [int(i) for i in list(self.game.state.fields[:, COLUMN_COUNT // 2])]\u001b[39;00m\n\u001b[1;32m     <a href='vscode-notebook-cell://wsl%2Bubuntu/home/milosz/5_semestr/WSI/WSI-lab/wsi-lab/minimax_alpha_beta/minimax.ipynb#X10sdnNjb2RlLXJlbW90ZQ%3D%3D?line=9'>10</a>\u001b[0m \u001b[39m# centre_count = centre_array.count(player.char())\u001b[39;00m\n\u001b[1;32m     <a href='vscode-notebook-cell://wsl%2Bubuntu/home/milosz/5_semestr/WSI/WSI-lab/wsi-lab/minimax_alpha_beta/minimax.ipynb#X10sdnNjb2RlLXJlbW90ZQ%3D%3D?line=10'>11</a>\u001b[0m \u001b[39m# score += centre_count * 3\u001b[39;00m\n\u001b[1;32m     <a href='vscode-notebook-cell://wsl%2Bubuntu/home/milosz/5_semestr/WSI/WSI-lab/wsi-lab/minimax_alpha_beta/minimax.ipynb#X10sdnNjb2RlLXJlbW90ZQ%3D%3D?line=11'>12</a>\u001b[0m \n\u001b[1;32m     <a href='vscode-notebook-cell://wsl%2Bubuntu/home/milosz/5_semestr/WSI/WSI-lab/wsi-lab/minimax_alpha_beta/minimax.ipynb#X10sdnNjb2RlLXJlbW90ZQ%3D%3D?line=12'>13</a>\u001b[0m \u001b[39m# Score horizontal positions\u001b[39;00m\n\u001b[1;32m     <a href='vscode-notebook-cell://wsl%2Bubuntu/home/milosz/5_semestr/WSI/WSI-lab/wsi-lab/minimax_alpha_beta/minimax.ipynb#X10sdnNjb2RlLXJlbW90ZQ%3D%3D?line=13'>14</a>\u001b[0m \u001b[39mfor\u001b[39;00m r \u001b[39min\u001b[39;00m \u001b[39mrange\u001b[39m(ROW_COUNT):\n\u001b[0;32m---> <a href='vscode-notebook-cell://wsl%2Bubuntu/home/milosz/5_semestr/WSI/WSI-lab/wsi-lab/minimax_alpha_beta/minimax.ipynb#X10sdnNjb2RlLXJlbW90ZQ%3D%3D?line=14'>15</a>\u001b[0m     row_array \u001b[39m=\u001b[39m [\u001b[39mself\u001b[39;49m\u001b[39m.\u001b[39;49mgame\u001b[39m.\u001b[39;49mstate\u001b[39m.\u001b[39;49mfields[r][i] \u001b[39mfor\u001b[39;00m i \u001b[39min\u001b[39;00m \u001b[39mrange\u001b[39m(COLUMN_COUNT)]\n\u001b[1;32m     <a href='vscode-notebook-cell://wsl%2Bubuntu/home/milosz/5_semestr/WSI/WSI-lab/wsi-lab/minimax_alpha_beta/minimax.ipynb#X10sdnNjb2RlLXJlbW90ZQ%3D%3D?line=15'>16</a>\u001b[0m     \u001b[39mfor\u001b[39;00m c \u001b[39min\u001b[39;00m \u001b[39mrange\u001b[39m(COLUMN_COUNT \u001b[39m-\u001b[39m \u001b[39m3\u001b[39m):\n\u001b[1;32m     <a href='vscode-notebook-cell://wsl%2Bubuntu/home/milosz/5_semestr/WSI/WSI-lab/wsi-lab/minimax_alpha_beta/minimax.ipynb#X10sdnNjb2RlLXJlbW90ZQ%3D%3D?line=16'>17</a>\u001b[0m         \u001b[39m# Create a horizontal window of 4\u001b[39;00m\n\u001b[1;32m     <a href='vscode-notebook-cell://wsl%2Bubuntu/home/milosz/5_semestr/WSI/WSI-lab/wsi-lab/minimax_alpha_beta/minimax.ipynb#X10sdnNjb2RlLXJlbW90ZQ%3D%3D?line=17'>18</a>\u001b[0m         window \u001b[39m=\u001b[39m row_array[c:c \u001b[39m+\u001b[39m WINDOW_LENGTH]\n",
            "\u001b[0;31mIndexError\u001b[0m: list index out of range"
          ]
        }
      ],
      "source": [
        "p1 = Player(\"a\")\n",
        "p2 = Player(\"b\")\n",
        "game = ConnectFour(size=(COLUMN_COUNT, ROW_COUNT), first_player=p1, second_player=p2)\n",
        "game.make_move(ConnectFourMove(3))\n",
        "game.make_move(ConnectFourMove(3))\n",
        "game.make_move(ConnectFourMove(2))\n",
        "game.make_move(ConnectFourMove(3))\n",
        "game.make_move(ConnectFourMove(2))\n",
        "print([move.column for move in game.get_moves()])\n",
        "mini_max_solver = MinMaxSolver(game)\n",
        "mini_max_solver.minimax(4, 0, 0, True)\n",
        "\n",
        "print(game)\n",
        "# print(str(game.get_winner().char))"
      ]
    }
  ],
  "metadata": {
    "kernelspec": {
      "display_name": "Python 3",
      "language": "python",
      "name": "python3"
    },
    "language_info": {
      "codemirror_mode": {
        "name": "ipython",
        "version": 3
      },
      "file_extension": ".py",
      "mimetype": "text/x-python",
      "name": "python",
      "nbconvert_exporter": "python",
      "pygments_lexer": "ipython3",
      "version": "3.10.6"
    },
    "nteract": {
      "version": "nteract-front-end@1.0.0"
    }
  },
  "nbformat": 4,
  "nbformat_minor": 0
}
