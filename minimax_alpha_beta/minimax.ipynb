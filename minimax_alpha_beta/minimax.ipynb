{
  "cells": [
    {
      "cell_type": "markdown",
      "metadata": {
        "collapsed": false
      },
      "source": [
        "# Ćwiczenie 3\n",
        "\n",
        "Celem ćwiczenia jest imlementacja metody [Minimax z obcinaniem alpha-beta](https://en.wikipedia.org/wiki/Alpha%E2%80%93beta_pruning) do gry Connect Four (czwórki).\n",
        "\n",
        "W trakcie ćwiczenia można skorzystać z reposytorium z implementacją gry [Connect Four udostępnionym przez Jakuba Łyskawę](https://github.com/lychanl/two-player-games). Ewentualnie, można zaimplementować samemu grę Connect Four (ale, tak aby rozwiązanie miało ten sam interfejs co podany poniżej).\n",
        "\n",
        "Implementację Minimax należy przetestować używając różną głębokość przeszukiwania. Implementacja Solvera musi zapewniać interfejs jak poniżej, ale można dodać dowolne metody prywatne oraz klasy wspomagające (jeżeli będą potrzebne).\n",
        "\n",
        "Punktacja:\n",
        "- Działająca metoda Minimax - **2 pkt**\n",
        "- Działająca metoda Minimax z obcinaniem alpha-beta - **1.5 pkt**\n",
        "- Analiza jakości solvera w zależności od głębokości przeszukiwania **1.5pkt**\n",
        "    - należy zaimplementować w tym celu prostą wizualizację rozgrywki dwóch agentów, bądź kilka przykładów 'z ręki'\n",
        "- Jakość kodu **2pkt**"
      ]
    },
    {
      "cell_type": "markdown",
      "metadata": {
        "collapsed": false
      },
      "source": [
        "Aby importowanie elementów z poniższej komórki działało należy umieścić tego notebooka w tym samym folderze co paczkę `two_player_games`:\n",
        "```\n",
        "├── LICENSE\n",
        "├── README.md\n",
        "├── minimax.ipynb # <<< HERE\n",
        "├── test\n",
        "│   ├── __init__.py\n",
        "│   ├── test_connect_four.py\n",
        "│   ├── test_dots_and_boxes.py\n",
        "│   └── test_pick.py\n",
        "└── two_player_games\n",
        "    ├── __init__.py\n",
        "    ├── games\n",
        "    │   ├── connect_four.py\n",
        "    │   └── dots_and_boxes.py\n",
        "    ├── move.py\n",
        "    ├── player.py\n",
        "    └── state.py\n",
        "```"
      ]
    },
    {
      "cell_type": "code",
      "execution_count": 9,
      "metadata": {
        "collapsed": true
      },
      "outputs": [],
      "source": [
        "from typing import Tuple, List\n",
        "import math, random, copy\n",
        "\n",
        "from two_player_games.player import Player\n",
        "from two_player_games.games.connect_four import ConnectFour, ConnectFourMove"
      ]
    },
    {
      "cell_type": "markdown",
      "metadata": {
        "collapsed": false
      },
      "source": [
        "Wielkość planszy"
      ]
    },
    {
      "cell_type": "code",
      "execution_count": 10,
      "metadata": {
        "collapsed": false
      },
      "outputs": [],
      "source": [
        "ROW_COUNT = 6\n",
        "COLUMN_COUNT = 7\n",
        "WINDOW_LENGTH = 4"
      ]
    },
    {
      "cell_type": "code",
      "execution_count": 11,
      "metadata": {
        "collapsed": false
      },
      "outputs": [],
      "source": [
        "class MinMaxSolver:\n",
        "\n",
        "    def __init__(self, game: ConnectFour, depth):\n",
        "        self.game = game\n",
        "        self.depth = depth\n",
        "        self._current_player = None\n",
        "\n",
        "    def get_current_player(self):\n",
        "        return self._current_player\n",
        "\n",
        "    def set_current_player(self, new_current_player):\n",
        "        self._current_player = new_current_player\n",
        "\n",
        "    def evaluate_position(self, player: Player)->float:\n",
        "        score = 0\n",
        "\n",
        "        # Score horizontal positions\n",
        "        for r in range(ROW_COUNT):\n",
        "            row_array = [self.game.state.fields[i][r] for i in range(COLUMN_COUNT)]\n",
        "            #for some weirds reasons column adn row indexes are switched in game.state.fields\n",
        "            for c in range(COLUMN_COUNT - 3):\n",
        "                # Create a horizontal window of 4\n",
        "                window = row_array[c:c + WINDOW_LENGTH]\n",
        "                score += self.evaluate_window(window, player)\n",
        "\n",
        "        # Score vertical positions\n",
        "        for c in range(COLUMN_COUNT):\n",
        "            col_array = [self.game.state.fields[c][i] for i in range(ROW_COUNT)]\n",
        "            #for some weirds reasons column and row indexes are switched in game.state.fields\n",
        "            for r in range(ROW_COUNT - 3):\n",
        "                # Create a vertical window of 4\n",
        "                window = col_array[r:r + WINDOW_LENGTH]\n",
        "                score += self.evaluate_window(window, player)\n",
        "\n",
        "        # Score positive diagonals\n",
        "        for r in range(ROW_COUNT - 3):\n",
        "            for c in range(COLUMN_COUNT - 3):\n",
        "                # Create a positive diagonal window of 4\n",
        "                window = [self.game.state.fields[c + i][r + i] for i in range(WINDOW_LENGTH)]\n",
        "                #for some weirds reasons column and row indexes are switched in game.state.fields\n",
        "                score += self.evaluate_window(window, player)\n",
        "\n",
        "        # Score negative diagonals\n",
        "        for r in range(ROW_COUNT - 3):\n",
        "            for c in range(COLUMN_COUNT - 3):\n",
        "                # Create a negative diagonal window of 4\n",
        "                window = [self.game.state.fields[c + i][r + 3 - i] for i in range(WINDOW_LENGTH)]\n",
        "                #for some weirds reasons column adn row indexes are switched in game.state.fields\n",
        "                score += self.evaluate_window(window, player)\n",
        "        return score\n",
        "\n",
        "    def evaluate_window(self, window, player: Player)->float:\n",
        "        score = 0\n",
        "        if player.char == self.game.first_player.char:\n",
        "            current_player = self.game.first_player\n",
        "            opposite_player = self.game.second_player\n",
        "        else:\n",
        "            current_player = self.game.second_player\n",
        "            opposite_player = self.game.first_player\n",
        "\n",
        "        if window.count(current_player) == 4:\n",
        "            score += 100\n",
        "        elif window.count(current_player) == 3 and window.count(None) == 1:\n",
        "            score += 15\n",
        "        elif window.count(current_player) == 2 and window.count(None) == 2:\n",
        "            score += 7\n",
        "        elif window.count(current_player) == 1 and window.count(None) == 3:\n",
        "            score += 2\n",
        "\n",
        "        if window.count(opposite_player) == 2 and window.count(None) == 2:\n",
        "            score -= 2\n",
        "        elif window.count(opposite_player) == 3 and window.count(None) == 1:\n",
        "            score -= 10\n",
        "        elif window.count(opposite_player) == 4:\n",
        "            score -= 100\n",
        "        return score\n",
        "\n",
        "\n",
        "    def get_best_move(self)->int:\n",
        "        pass\n",
        "\n",
        "    def is_valid_move(self, col_index:int)->bool:\n",
        "        return col_index in self.get_valid_moves()\n",
        "\n",
        "    def get_valid_moves(self)->List[int]:\n",
        "        return [move.column for move in self.game.get_moves()]\n",
        "\n",
        "    def minimax(self, depth, alpha:float, beta:float, is_maximizing_player:bool)-> Tuple[int, float]:\n",
        "        valid_moves = self.get_valid_moves()\n",
        "        is_finished = self.game.is_finished()\n",
        "\n",
        "        if depth == 0 or is_finished:\n",
        "            if is_finished:\n",
        "                if self.game.get_winner() == self.game.first_player:\n",
        "                    return None, 100000\n",
        "                elif self.game.get_winner() == self.game.second_player:\n",
        "                    return None, -100000\n",
        "                else:\n",
        "                    return None, 0\n",
        "            else: # Depth is zero\n",
        "                # if is_maximizing_player:\n",
        "                #     return None, self.evaluate_position(self.game.state.get_current_player())\n",
        "                # else:\n",
        "                #     return None, self.evaluate_position(self.game.state.get_players()[1])\n",
        "                return None, self.evaluate_position(self.get_current_player())\n",
        "        if is_maximizing_player:\n",
        "            value = -math.inf\n",
        "            # column = random.choice(valid_moves)\n",
        "            for col in valid_moves:\n",
        "                game_copy = copy.deepcopy(self.game)\n",
        "                if depth == self.depth:\n",
        "                    if self.get_current_player().char == 'a':\n",
        "                        # game_copy = copy.deepcopy(self.game)\n",
        "                        pass\n",
        "                    else:\n",
        "                        game_copy.first_player = self.game.second_player\n",
        "                        game_copy.second_player = self.game.first_player\n",
        "                else:\n",
        "                    game_copy.first_player = self.game.second_player\n",
        "                    game_copy.second_player = self.game.first_player\n",
        "                # game_copy.state.fields = self.game.state.fields\n",
        "                game_copy.make_move(ConnectFourMove(col)) # Gotta check if _current_player is valid\n",
        "                copy_minimax = MinMaxSolver(game_copy, self.depth)\n",
        "                new_score = copy_minimax.minimax(depth-1, alpha, beta, False)[1]\n",
        "\n",
        "                if new_score > value:\n",
        "                    value = new_score\n",
        "                    column = col\n",
        "                alpha = max(alpha, value)\n",
        "                if alpha >= beta:\n",
        "                    break\n",
        "                    # return column, alpha\n",
        "            # return column, value\n",
        "\n",
        "        else: # Minimizing player\n",
        "            value = math.inf\n",
        "            # column = random.choice(valid_moves)\n",
        "            for col in valid_moves:\n",
        "                game_copy = copy.deepcopy(self.game)\n",
        "                # game_copy.state.fields = self.game.state.fields\n",
        "                game_copy.make_move(ConnectFourMove(col)) # Gotta check if _current_player is valid\n",
        "                copy_minimax = MinMaxSolver(game_copy, self.depth)\n",
        "                new_score = copy_minimax.minimax(depth-1, alpha, beta, True)[1]\n",
        "\n",
        "                if new_score < value:\n",
        "                    value = new_score\n",
        "                    column = col\n",
        "                beta = min(beta, value)\n",
        "                if alpha >= beta:\n",
        "                    break\n",
        "            # return column, value\n",
        "\n",
        "        return column, value\n"
      ]
    },
    {
      "cell_type": "markdown",
      "metadata": {
        "collapsed": false
      },
      "source": [
        "Rozgrywka"
      ]
    },
    {
      "cell_type": "code",
      "execution_count": 12,
      "metadata": {
        "collapsed": false
      },
      "outputs": [
        {
          "name": "stdout",
          "output_type": "stream",
          "text": [
            "Current player: a\n",
            "[ ][ ][ ][ ][ ][ ][ ]\n",
            "[ ][ ][ ][ ][ ][ ][ ]\n",
            "[ ][ ][ ][ ][ ][ ][ ]\n",
            "[ ][ ][ ][ ][ ][ ][ ]\n",
            "[ ][ ][ ][ ][ ][ ][ ]\n",
            "[ ][ ][ ][ ][ ][ ][ ]\n"
          ]
        },
        {
          "ename": "AttributeError",
          "evalue": "'NoneType' object has no attribute 'char'",
          "output_type": "error",
          "traceback": [
            "\u001b[0;31m---------------------------------------------------------------------------\u001b[0m",
            "\u001b[0;31mAttributeError\u001b[0m                            Traceback (most recent call last)",
            "\u001b[1;32m/home/milosz/5_semestr/WSI/WSI-lab/wsi-lab/minimax_alpha_beta/minimax.ipynb Cell 8\u001b[0m line \u001b[0;36m1\n\u001b[1;32m     <a href='vscode-notebook-cell://wsl%2Bubuntu/home/milosz/5_semestr/WSI/WSI-lab/wsi-lab/minimax_alpha_beta/minimax.ipynb#X10sdnNjb2RlLXJlbW90ZQ%3D%3D?line=12'>13</a>\u001b[0m iteration \u001b[39m=\u001b[39m \u001b[39m0\u001b[39m\n\u001b[1;32m     <a href='vscode-notebook-cell://wsl%2Bubuntu/home/milosz/5_semestr/WSI/WSI-lab/wsi-lab/minimax_alpha_beta/minimax.ipynb#X10sdnNjb2RlLXJlbW90ZQ%3D%3D?line=13'>14</a>\u001b[0m \u001b[39mwhile\u001b[39;00m \u001b[39mnot\u001b[39;00m game\u001b[39m.\u001b[39mis_finished():\n\u001b[0;32m---> <a href='vscode-notebook-cell://wsl%2Bubuntu/home/milosz/5_semestr/WSI/WSI-lab/wsi-lab/minimax_alpha_beta/minimax.ipynb#X10sdnNjb2RlLXJlbW90ZQ%3D%3D?line=14'>15</a>\u001b[0m     column, value \u001b[39m=\u001b[39m mini_max_solver\u001b[39m.\u001b[39;49mminimax(depth, \u001b[39m-\u001b[39;49mmath\u001b[39m.\u001b[39;49minf, math\u001b[39m.\u001b[39;49minf, \u001b[39mTrue\u001b[39;49;00m)\n\u001b[1;32m     <a href='vscode-notebook-cell://wsl%2Bubuntu/home/milosz/5_semestr/WSI/WSI-lab/wsi-lab/minimax_alpha_beta/minimax.ipynb#X10sdnNjb2RlLXJlbW90ZQ%3D%3D?line=15'>16</a>\u001b[0m     game\u001b[39m.\u001b[39mmake_move(ConnectFourMove(column))\n\u001b[1;32m     <a href='vscode-notebook-cell://wsl%2Bubuntu/home/milosz/5_semestr/WSI/WSI-lab/wsi-lab/minimax_alpha_beta/minimax.ipynb#X10sdnNjb2RlLXJlbW90ZQ%3D%3D?line=16'>17</a>\u001b[0m     iteration \u001b[39m+\u001b[39m\u001b[39m=\u001b[39m \u001b[39m1\u001b[39m\n",
            "\u001b[1;32m/home/milosz/5_semestr/WSI/WSI-lab/wsi-lab/minimax_alpha_beta/minimax.ipynb Cell 8\u001b[0m line \u001b[0;36m1\n\u001b[1;32m    <a href='vscode-notebook-cell://wsl%2Bubuntu/home/milosz/5_semestr/WSI/WSI-lab/wsi-lab/minimax_alpha_beta/minimax.ipynb#X10sdnNjb2RlLXJlbW90ZQ%3D%3D?line=109'>110</a>\u001b[0m game_copy \u001b[39m=\u001b[39m copy\u001b[39m.\u001b[39mdeepcopy(\u001b[39mself\u001b[39m\u001b[39m.\u001b[39mgame)\n\u001b[1;32m    <a href='vscode-notebook-cell://wsl%2Bubuntu/home/milosz/5_semestr/WSI/WSI-lab/wsi-lab/minimax_alpha_beta/minimax.ipynb#X10sdnNjb2RlLXJlbW90ZQ%3D%3D?line=110'>111</a>\u001b[0m \u001b[39mif\u001b[39;00m depth \u001b[39m==\u001b[39m \u001b[39mself\u001b[39m\u001b[39m.\u001b[39mdepth:\n\u001b[0;32m--> <a href='vscode-notebook-cell://wsl%2Bubuntu/home/milosz/5_semestr/WSI/WSI-lab/wsi-lab/minimax_alpha_beta/minimax.ipynb#X10sdnNjb2RlLXJlbW90ZQ%3D%3D?line=111'>112</a>\u001b[0m     \u001b[39mif\u001b[39;00m \u001b[39mself\u001b[39;49m\u001b[39m.\u001b[39;49mget_current_player()\u001b[39m.\u001b[39;49mchar \u001b[39m==\u001b[39m \u001b[39m'\u001b[39m\u001b[39ma\u001b[39m\u001b[39m'\u001b[39m:\n\u001b[1;32m    <a href='vscode-notebook-cell://wsl%2Bubuntu/home/milosz/5_semestr/WSI/WSI-lab/wsi-lab/minimax_alpha_beta/minimax.ipynb#X10sdnNjb2RlLXJlbW90ZQ%3D%3D?line=112'>113</a>\u001b[0m         \u001b[39m# game_copy = copy.deepcopy(self.game)\u001b[39;00m\n\u001b[1;32m    <a href='vscode-notebook-cell://wsl%2Bubuntu/home/milosz/5_semestr/WSI/WSI-lab/wsi-lab/minimax_alpha_beta/minimax.ipynb#X10sdnNjb2RlLXJlbW90ZQ%3D%3D?line=113'>114</a>\u001b[0m         \u001b[39mpass\u001b[39;00m\n\u001b[1;32m    <a href='vscode-notebook-cell://wsl%2Bubuntu/home/milosz/5_semestr/WSI/WSI-lab/wsi-lab/minimax_alpha_beta/minimax.ipynb#X10sdnNjb2RlLXJlbW90ZQ%3D%3D?line=114'>115</a>\u001b[0m     \u001b[39melse\u001b[39;00m:\n",
            "\u001b[0;31mAttributeError\u001b[0m: 'NoneType' object has no attribute 'char'"
          ]
        }
      ],
      "source": [
        "p1 = Player(\"a\")\n",
        "p2 = Player(\"b\")\n",
        "game = ConnectFour(size=(COLUMN_COUNT, ROW_COUNT), first_player=p1, second_player=p2)\n",
        "# game.make_move(ConnectFourMove(6))\n",
        "# game.make_move(ConnectFourMove(2))\n",
        "# game.make_move(ConnectFourMove(6))\n",
        "# game.make_move(ConnectFourMove(3))\n",
        "# game.make_move(ConnectFourMove(2))\n",
        "print(game)\n",
        "\n",
        "depth = 7\n",
        "mini_max_solver = MinMaxSolver(game, depth)\n",
        "iteration = 0\n",
        "while not game.is_finished():\n",
        "    column, value = mini_max_solver.minimax(depth, -math.inf, math.inf, True)\n",
        "    game.make_move(ConnectFourMove(column))\n",
        "    iteration += 1\n",
        "    if iteration == 20:\n",
        "        print(iteration)\n",
        "    print(iteration)\n",
        "    print(game)\n",
        "print(game.get_winner().char)\n",
        "\n",
        "# column, value = mini_max_solver.minimax(4, -math.inf, math.inf, True)\n",
        "# game.make_move(ConnectFourMove(column))\n",
        "# print(game)\n",
        "\n",
        "# print(game.get_winner().char)\n",
        "# print(str(game.get_winner().char))"
      ]
    }
  ],
  "metadata": {
    "kernelspec": {
      "display_name": "Python 3",
      "language": "python",
      "name": "python3"
    },
    "language_info": {
      "codemirror_mode": {
        "name": "ipython",
        "version": 3
      },
      "file_extension": ".py",
      "mimetype": "text/x-python",
      "name": "python",
      "nbconvert_exporter": "python",
      "pygments_lexer": "ipython3",
      "version": "3.10.6"
    },
    "nteract": {
      "version": "nteract-front-end@1.0.0"
    }
  },
  "nbformat": 4,
  "nbformat_minor": 0
}
