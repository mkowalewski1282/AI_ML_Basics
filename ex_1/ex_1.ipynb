{
 "cells": [
  {
   "cell_type": "code",
   "execution_count": null,
   "metadata": {},
   "outputs": [],
   "source": [
    "import numpy as np\n",
    "import itertools as it\n",
    "import random\n",
    "import time\n",
    "import matplotlib.pyplot as plt\n",
    "\n",
    "class KnapSack:\n",
    "  def __init__(self, profits, weights, capacity):\n",
    "    self.profits = profits\n",
    "    self.weights = weights\n",
    "    self.capacity = capacity\n",
    "\n",
    "  def get_weights(self):\n",
    "    return self.weights\n",
    "\n",
    "  def solve_knapsack_brute_force(self):\n",
    "    permutations = list(it.product(range(2), repeat=len(self.weights)))\n",
    "    max_profit = 0\n",
    "    outcome = None\n",
    "    for i in range(len(permutations)):\n",
    "      current_weight = 0\n",
    "      current_profit = 0\n",
    "      for j in range(len(self.weights)):\n",
    "        if permutations[i][j]:\n",
    "          current_weight += self.weights[j]\n",
    "          current_profit += self.profits[j]\n",
    "      if current_profit >= max_profit and current_weight <= self.capacity:\n",
    "        outcome = permutations[i]\n",
    "        max_profit = current_profit\n",
    "    return (max_profit, outcome)\n",
    "\n",
    "  def solve_knapsack_pw_ratio(self):\n",
    "    profit_ratios = []\n",
    "    for i in range(len(self.weights)):\n",
    "      profit_ratios.append(((self.profits[i] / self.weights[i]), i))\n",
    "    profit_ratios.sort()\n",
    "    profit_ratios.reverse()\n",
    "    current_weight = 0\n",
    "    current_profit = 0\n",
    "    outcome = [0 for i in range(len(self.weights))]\n",
    "    for i in range(len(profit_ratios)):\n",
    "      if (current_weight + self.weights[profit_ratios[i][1]]) > self.capacity:\n",
    "        break\n",
    "      else:\n",
    "        current_weight += self.weights[profit_ratios[i][1]]\n",
    "        current_profit += self.profits[profit_ratios[i][1]]\n",
    "        outcome[profit_ratios[i][1]] = 1\n",
    "    return (current_profit, outcome)\n",
    "\n"
   ]
  },
  {
   "cell_type": "code",
   "execution_count": null,
   "metadata": {},
   "outputs": [],
   "source": [
    "def brute_force_plot(iters, profits, weights, capacity):\n",
    "    times_brute = []\n",
    "    times_heur = []\n",
    "    elem_nums = []\n",
    "    for i in range(iters):\n",
    "        weights = np.append(weights, np.array([random.randint(1, 20)]))\n",
    "        profits = np.append(profits, np.array([random.randint(1, 20)]))\n",
    "        knap = KnapSack(profits, weights, capacity)\n",
    "        start_time = time.time()\n",
    "        knap.solve_knapsack_brute_force()\n",
    "        times_brute.append(time.time() - start_time)\n",
    "        start_time = time.time()\n",
    "        knap.solve_knapsack_pw_ratio()\n",
    "        times_heur.append(time.time() - start_time)\n",
    "        elem_nums.append(len(knap.get_weights()))\n",
    "    plt.plot(elem_nums, times_brute)\n",
    "    plt.plot(elem_nums, times_heur)\n",
    "    plt.xlabel('iterations')\n",
    "    plt.ylabel('time [s]')\n",
    "    plt.show()"
   ]
  },
  {
   "cell_type": "code",
   "execution_count": null,
   "metadata": {},
   "outputs": [],
   "source": [
    "weights = np.array([8, 3, 5, 2])\n",
    "capacity = 45\n",
    "profits = np.array([16, 8, 9, 6])\n",
    "\n",
    "knap = KnapSack(profits, weights, capacity)\n",
    "print(knap.solve_knapsack_brute_force())\n",
    "print(knap.solve_knapsack_pw_ratio())\n",
    "\n",
    "brute_force_plot(5, profits, weights, capacity)"
   ]
  }
 ],
 "metadata": {
  "kernelspec": {
   "display_name": "Python 3",
   "language": "python",
   "name": "python3"
  },
  "language_info": {
   "codemirror_mode": {
    "name": "ipython",
    "version": 3
   },
   "file_extension": ".py",
   "mimetype": "text/x-python",
   "name": "python",
   "nbconvert_exporter": "python",
   "pygments_lexer": "ipython3",
   "version": "3.10.6"
  },
  "orig_nbformat": 4
 },
 "nbformat": 4,
 "nbformat_minor": 2
}
